{
 "cells": [
  {
   "cell_type": "code",
   "execution_count": 1,
   "metadata": {},
   "outputs": [],
   "source": [
    "%reload_ext autoreload\n",
    "%autoreload 2\n",
    "import sys, os\n",
    "sys.path.append(os.path.abspath('..'))\n",
    "from seismic2dreem import run\n",
    "\n",
    "run(\n",
    "    seismic_dir='/Users/ymdt/Downloads/table', \n",
    "    output='/Users/ymdt/Downloads', \n",
    "    beautify=True,\n",
    "    ow=True,\n",
    "    verbose=True)"
   ]
  },
  {
   "cell_type": "code",
   "execution_count": 15,
   "metadata": {},
   "outputs": [
    {
     "data": {
      "text/plain": [
       "'/Users/ymdt/Downloads/table'"
      ]
     },
     "execution_count": 15,
     "metadata": {},
     "output_type": "execute_result"
    }
   ],
   "source": [
    "def find_table(root):\n",
    "    paths = os.walk(root)\n",
    "    for path in paths:\n",
    "        path = path[0]\n",
    "        if path.split('/')[-1] == 'table':\n",
    "            return path\n",
    "    raise FileNotFoundError(\"No table directory found\")\n",
    "\n",
    "find_table('/Users/ymdt/Downloads/table')"
   ]
  }
 ],
 "metadata": {
  "kernelspec": {
   "display_name": "base",
   "language": "python",
   "name": "python3"
  },
  "language_info": {
   "codemirror_mode": {
    "name": "ipython",
    "version": 3
   },
   "file_extension": ".py",
   "mimetype": "text/x-python",
   "name": "python",
   "nbconvert_exporter": "python",
   "pygments_lexer": "ipython3",
   "version": "3.11.4"
  },
  "orig_nbformat": 4
 },
 "nbformat": 4,
 "nbformat_minor": 2
}
