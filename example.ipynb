{
 "cells": [
  {
   "cell_type": "code",
   "execution_count": 21,
   "metadata": {},
   "outputs": [
    {
     "name": "stdout",
     "output_type": "stream",
     "text": [
      "saved 1-5_4_S6_L001.json to /Users/ymdt/src/seismic2dreem/test_files/table/1-5_4_S6_L001\n",
      "saved 1-5_3_S4_L001.json to /Users/ymdt/src/seismic2dreem/test_files/table/1-5_3_S4_L001\n"
     ]
    }
   ],
   "source": [
    "%reload_ext autoreload\n",
    "%autoreload 2\n",
    "import sys, os\n",
    "sys.path.append(os.path.abspath('..'))\n",
    "from seismic2dreem import run\n",
    "\n",
    "run(\n",
    "    seismic_dir='/Users/ymdt/src/seismic2dreem/test_files', \n",
    "    output='/Users/ymdt/src/seismic2dreem/test_files_out', \n",
    "    beautify=True,\n",
    "    mask=True,\n",
    "    ow=True,\n",
    "    verbose=True)"
   ]
  }
 ],
 "metadata": {
  "kernelspec": {
   "display_name": "base",
   "language": "python",
   "name": "python3"
  },
  "language_info": {
   "codemirror_mode": {
    "name": "ipython",
    "version": 3
   },
   "file_extension": ".py",
   "mimetype": "text/x-python",
   "name": "python",
   "nbconvert_exporter": "python",
   "pygments_lexer": "ipython3",
   "version": "3.11.4"
  },
  "orig_nbformat": 4
 },
 "nbformat": 4,
 "nbformat_minor": 2
}
